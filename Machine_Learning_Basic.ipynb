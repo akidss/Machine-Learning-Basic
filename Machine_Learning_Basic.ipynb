{
  "nbformat": 4,
  "nbformat_minor": 0,
  "metadata": {
    "colab": {
      "provenance": [],
      "authorship_tag": "ABX9TyMYN6Vqi+sFgb+o8FoLs6YK",
      "include_colab_link": true
    },
    "kernelspec": {
      "name": "python3",
      "display_name": "Python 3"
    },
    "language_info": {
      "name": "python"
    }
  },
  "cells": [
    {
      "cell_type": "markdown",
      "metadata": {
        "id": "view-in-github",
        "colab_type": "text"
      },
      "source": [
        "<a href=\"https://colab.research.google.com/github/akidss/Machine-Learning-Basic/blob/main/Machine_Learning_Basic.ipynb\" target=\"_parent\"><img src=\"https://colab.research.google.com/assets/colab-badge.svg\" alt=\"Open In Colab\"/></a>"
      ]
    },
    {
      "cell_type": "markdown",
      "source": [
        "#**Importing Libraries**"
      ],
      "metadata": {
        "id": "jP5q-n3jTx1t"
      }
    },
    {
      "cell_type": "code",
      "execution_count": null,
      "metadata": {
        "id": "tKEmgzfITgvy"
      },
      "outputs": [],
      "source": [
        "import numpy as np\n",
        "import pandas as pd\n",
        "import matplotlib.pyplot as plt\n",
        "import seaborn as sns\n",
        "from sklearn.model_selection import train_test_split\n",
        "from sklearn.preprocessing import StandardScaler, LabelEncoder\n",
        "from sklearn.linear_model import LinearRegression, LogisticRegression\n",
        "from sklearn.ensemble import RandomForestClassifier\n",
        "from sklearn.svm import SVC\n",
        "from sklearn.cluster import KMeans\n",
        "from sklearn.metrics import mean_squared_error, accuracy_score, classification_report, confusion_matrix"
      ]
    },
    {
      "cell_type": "markdown",
      "source": [
        "#**Loading and Exploring Data**"
      ],
      "metadata": {
        "id": "H_V3GpDPT7Y5"
      }
    },
    {
      "cell_type": "code",
      "source": [
        "df = pd.read_csv(\"data.csv\")  # Replace with actual dataset\n",
        "print(df.head())\n",
        "print(df.info())\n",
        "print(df.describe())"
      ],
      "metadata": {
        "id": "nYMGOcBjT_hf"
      },
      "execution_count": null,
      "outputs": []
    },
    {
      "cell_type": "markdown",
      "source": [
        "#**Data Preprocessing**"
      ],
      "metadata": {
        "id": "o_FM-b52UB27"
      }
    },
    {
      "cell_type": "code",
      "source": [
        "# Handling missing values\n",
        "df.fillna(df.mean(), inplace=True)\n",
        "\n",
        "# Encoding categorical variables\n",
        "encoder = LabelEncoder()\n",
        "df['category_column'] = encoder.fit_transform(df['category_column']) #Replace 'category column with your data'\n",
        "\n",
        "# Splitting features and target\n",
        "X = df.drop(\"target\", axis=1) #'target' means is select target from your data\n",
        "y = df[\"target\"]"
      ],
      "metadata": {
        "id": "iq1ktA1iUGGa"
      },
      "execution_count": null,
      "outputs": []
    },
    {
      "cell_type": "markdown",
      "source": [
        "#**Splitting Data**"
      ],
      "metadata": {
        "id": "ARqumo7uUbkg"
      }
    },
    {
      "cell_type": "code",
      "source": [
        "X_train, X_test, y_train, y_test = train_test_split(X, y, test_size=0.2, random_state=42)"
      ],
      "metadata": {
        "id": "8qEMba_7Uffx"
      },
      "execution_count": null,
      "outputs": []
    },
    {
      "cell_type": "markdown",
      "source": [
        "#**Feature Scaling**"
      ],
      "metadata": {
        "id": "1z5bTPVDUiKc"
      }
    },
    {
      "cell_type": "code",
      "source": [
        "scaler = StandardScaler()\n",
        "X_train = scaler.fit_transform(X_train)\n",
        "X_test = scaler.transform(X_test)"
      ],
      "metadata": {
        "id": "icKh0LZxUmfr"
      },
      "execution_count": null,
      "outputs": []
    },
    {
      "cell_type": "markdown",
      "source": [
        "#**Regression Model (Linear Regression)**"
      ],
      "metadata": {
        "id": "VDGhPjHuUo9v"
      }
    },
    {
      "cell_type": "code",
      "source": [
        "lr = LinearRegression()\n",
        "lr.fit(X_train, y_train)\n",
        "y_pred = lr.predict(X_test)\n",
        "mse = mean_squared_error(y_test, y_pred)\n",
        "print(f\"Mean Squared Error: {mse}\")"
      ],
      "metadata": {
        "id": "1x9uA4x6Uu6N"
      },
      "execution_count": null,
      "outputs": []
    },
    {
      "cell_type": "markdown",
      "source": [
        "#**Classification Model (Logistic Regression)**"
      ],
      "metadata": {
        "id": "CMehPX6yUy4g"
      }
    },
    {
      "cell_type": "code",
      "source": [
        "clf = LogisticRegression()\n",
        "clf.fit(X_train, y_train)\n",
        "y_pred = clf.predict(X_test)\n",
        "print(classification_report(y_test, y_pred))\n",
        "print(confusion_matrix(y_test, y_pred))"
      ],
      "metadata": {
        "id": "BqHAnwqoU3XW"
      },
      "execution_count": null,
      "outputs": []
    },
    {
      "cell_type": "markdown",
      "source": [
        "#**Random Forest Classifier**"
      ],
      "metadata": {
        "id": "XLTNRZ8XU6Pd"
      }
    },
    {
      "cell_type": "code",
      "source": [
        "rf = RandomForestClassifier(n_estimators=100, random_state=42)\n",
        "rf.fit(X_train, y_train)\n",
        "y_pred = rf.predict(X_test)\n",
        "print(f\"Accuracy: {accuracy_score(y_test, y_pred)}\")"
      ],
      "metadata": {
        "id": "pv3nc0lrU-W_"
      },
      "execution_count": null,
      "outputs": []
    },
    {
      "cell_type": "markdown",
      "source": [
        "#**Support Vector Machine (SVM)**"
      ],
      "metadata": {
        "id": "IGFEcCKiVBYN"
      }
    },
    {
      "cell_type": "code",
      "source": [
        "svm = SVC(kernel='linear')\n",
        "svm.fit(X_train, y_train)\n",
        "y_pred = svm.predict(X_test)\n",
        "print(f\"Accuracy: {accuracy_score(y_test, y_pred)}\")"
      ],
      "metadata": {
        "id": "s26YP9wvVFAw"
      },
      "execution_count": null,
      "outputs": []
    },
    {
      "cell_type": "markdown",
      "source": [
        "#**Clustering Model (K-Means)**"
      ],
      "metadata": {
        "id": "WpqSABROVHVd"
      }
    },
    {
      "cell_type": "code",
      "source": [
        "kmeans = KMeans(n_clusters=3, random_state=42)\n",
        "kmeans.fit(X)\n",
        "labels = kmeans.labels_\n",
        "plt.scatter(X.iloc[:, 0], X.iloc[:, 1], c=labels, cmap='viridis')\n",
        "plt.title(\"K-Means Clustering\")\n",
        "plt.show()"
      ],
      "metadata": {
        "id": "2ZhI3nGpVKnW"
      },
      "execution_count": null,
      "outputs": []
    }
  ]
}